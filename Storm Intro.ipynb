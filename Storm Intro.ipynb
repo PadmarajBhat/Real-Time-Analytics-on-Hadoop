{
 "cells": [
  {
   "cell_type": "markdown",
   "metadata": {},
   "source": [
    "# Real Time Analytics with Apache Storm\n",
    "\n",
    "\n",
    "\n",
    "### Chapter 1: Basics of Storm\n",
    "* **Real Time Analytics** : Broadly it can be of 2 type\n",
    "    * Streaming : Data is being analysed as and when it is produced\n",
    "    * Interactive : Store the data and provid the result of the analysis when queried.\n",
    "\n",
    "* **Storm**:\n",
    "    * real time analytics platform for streams of data.\n",
    "    * Hadoop does the batch processing and storm does the real time processing.\n",
    "        * My study on the differences between them indicates that the choice of the platform depends on the processing rate\n",
    "            * i.e. if you need second wise \"real time processing\" then you can go with spark streaming and less than that you would need storm."
   ]
  }
 ],
 "metadata": {
  "kernelspec": {
   "display_name": "Python 3",
   "language": "python",
   "name": "python3"
  },
  "language_info": {
   "codemirror_mode": {
    "name": "ipython",
    "version": 3
   },
   "file_extension": ".py",
   "mimetype": "text/x-python",
   "name": "python",
   "nbconvert_exporter": "python",
   "pygments_lexer": "ipython3",
   "version": "3.7.3"
  }
 },
 "nbformat": 4,
 "nbformat_minor": 2
}
