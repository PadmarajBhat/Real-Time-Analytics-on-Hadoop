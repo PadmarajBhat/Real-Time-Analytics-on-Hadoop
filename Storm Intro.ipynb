{
 "cells": [
  {
   "cell_type": "markdown",
   "metadata": {},
   "source": [
    "# Real Time Analytics with Apache Storm\n",
    "\n",
    "\n",
    "\n",
    "### Chapter 1: Basics of Storm\n",
    "* **Real Time Analytics** : Broadly it can be of 2 type\n",
    "    * Streaming : Data is being analysed as and when it is produced\n",
    "    * Interactive : Store the data and provid the result of the analysis when queried.\n",
    "\n",
    "* **Storm**:\n",
    "    * real time analytics platform for streams of data.\n",
    "    * Hadoop does the batch processing and storm does the real time processing.\n",
    "        * My study on the differences between them indicates that the choice of the platform depends on the processing rate\n",
    "            * i.e. if you need second wise \"real time processing\" then you can go with spark streaming and less than that you would need storm.\n",
    "            \n",
    "            \n",
    "    * SPOUTS: Data source (db, kafka, kestrel)\n",
    "    * BOLT: operations on data ( filtering/aggregaion/join/transformations )\n",
    "    * Tuple: immutable ordered list\n",
    "    * Topology: DAG, (no loop), vertices are computation and edges are streams.\n",
    "    \n",
    "    * Grouping:\n",
    "        * Since we can have multiple layers of bolts, there needs a mapping of source to bolts and bolts themselves. \n",
    "        \n",
    "        * Shuffle Grouping: randomly sends tuples to next stage bolts.\n",
    "        * Field Grouping: Groups tuples by single or multiple fields and target the next stage bolts on the basis of it\n",
    "        * All Grouping: Sends all tuples to all next stage bolts.\n",
    "        * Global Grouping: Sends all tuples to one single next stage bolt."
   ]
  }
 ],
 "metadata": {
  "kernelspec": {
   "display_name": "Python 3",
   "language": "python",
   "name": "python3"
  },
  "language_info": {
   "codemirror_mode": {
    "name": "ipython",
    "version": 3
   },
   "file_extension": ".py",
   "mimetype": "text/x-python",
   "name": "python",
   "nbconvert_exporter": "python",
   "pygments_lexer": "ipython3",
   "version": "3.7.3"
  }
 },
 "nbformat": 4,
 "nbformat_minor": 2
}
