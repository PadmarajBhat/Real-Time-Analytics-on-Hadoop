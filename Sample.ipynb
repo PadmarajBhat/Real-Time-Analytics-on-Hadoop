{
  "nbformat": 4,
  "nbformat_minor": 0,
  "metadata": {
    "colab": {
      "name": "Sample.ipynb",
      "version": "0.3.2",
      "provenance": [],
      "collapsed_sections": [],
      "include_colab_link": true
    },
    "kernelspec": {
      "name": "python3",
      "display_name": "Python 3"
    }
  },
  "cells": [
    {
      "cell_type": "markdown",
      "metadata": {
        "id": "view-in-github",
        "colab_type": "text"
      },
      "source": [
        "<a href=\"https://colab.research.google.com/github/PadmarajBhat/Real-Time-Analytics-on-Hadoop/blob/master/Sample.ipynb\" target=\"_parent\"><img src=\"https://colab.research.google.com/assets/colab-badge.svg\" alt=\"Open In Colab\"/></a>"
      ]
    },
    {
      "cell_type": "code",
      "metadata": {
        "id": "pL-fjCGFb7p1",
        "colab_type": "code",
        "outputId": "ebe43c87-76c8-45da-eddf-f157fe46775d",
        "colab": {
          "base_uri": "https://localhost:8080/",
          "height": 399
        }
      },
      "source": [
        "!pip install -U pyspark\n",
        "!pip install -U pyarrow\n",
        "!sudo apt install openjdk-8-jdk\n",
        "!sudo update-alternatives --config java"
      ],
      "execution_count": 1,
      "outputs": [
        {
          "output_type": "stream",
          "text": [
            "Requirement already up-to-date: pyspark in /usr/local/lib/python3.6/dist-packages (2.4.3)\n",
            "Requirement already satisfied, skipping upgrade: py4j==0.10.7 in /usr/local/lib/python3.6/dist-packages (from pyspark) (0.10.7)\n",
            "Requirement already up-to-date: pyarrow in /usr/local/lib/python3.6/dist-packages (0.13.0)\n",
            "Requirement already satisfied, skipping upgrade: numpy>=1.14 in /usr/local/lib/python3.6/dist-packages (from pyarrow) (1.16.3)\n",
            "Requirement already satisfied, skipping upgrade: six>=1.0.0 in /usr/local/lib/python3.6/dist-packages (from pyarrow) (1.12.0)\n",
            "Reading package lists... Done\n",
            "Building dependency tree       \n",
            "Reading state information... Done\n",
            "openjdk-8-jdk is already the newest version (8u212-b03-0ubuntu1.18.04.1).\n",
            "The following package was automatically installed and is no longer required:\n",
            "  libnvidia-common-410\n",
            "Use 'sudo apt autoremove' to remove it.\n",
            "0 upgraded, 0 newly installed, 0 to remove and 6 not upgraded.\n",
            "There are 2 choices for the alternative java (providing /usr/bin/java).\n",
            "\n",
            "  Selection    Path                                            Priority   Status\n",
            "------------------------------------------------------------\n",
            "  0            /usr/lib/jvm/java-11-openjdk-amd64/bin/java      1111      auto mode\n",
            "  1            /usr/lib/jvm/java-11-openjdk-amd64/bin/java      1111      manual mode\n",
            "* 2            /usr/lib/jvm/java-8-openjdk-amd64/jre/bin/java   1081      manual mode\n",
            "\n",
            "Press <enter> to keep the current choice[*], or type selection number: \n"
          ],
          "name": "stdout"
        }
      ]
    },
    {
      "cell_type": "code",
      "metadata": {
        "id": "TJ50ia1Xc8Wc",
        "colab_type": "code",
        "outputId": "8ba7b4c1-76a1-4b8c-b634-92ad1f7cf6fb",
        "colab": {
          "base_uri": "https://localhost:8080/",
          "height": 243
        }
      },
      "source": [
        "from pyspark.sql import SparkSession\n",
        "spark = SparkSession.builder.appName(\"MLlib\").getOrCreate()\n",
        "a = [(0,1),(0,2),(1,1),(1,2),(2,1),(2,2),(3,1),(3,2)]\n",
        "b = spark.createDataFrame(a,[\"class\",\"num\"])\n",
        "b.show()"
      ],
      "execution_count": 2,
      "outputs": [
        {
          "output_type": "stream",
          "text": [
            "+-----+---+\n",
            "|class|num|\n",
            "+-----+---+\n",
            "|    0|  1|\n",
            "|    0|  2|\n",
            "|    1|  1|\n",
            "|    1|  2|\n",
            "|    2|  1|\n",
            "|    2|  2|\n",
            "|    3|  1|\n",
            "|    3|  2|\n",
            "+-----+---+\n",
            "\n"
          ],
          "name": "stdout"
        }
      ]
    },
    {
      "cell_type": "code",
      "metadata": {
        "id": "zU8735T2dl83",
        "colab_type": "code",
        "outputId": "b611e8f8-28fa-4382-b156-4d3d8dd0690e",
        "colab": {
          "base_uri": "https://localhost:8080/",
          "height": 243
        }
      },
      "source": [
        "b= b.withColumn(\"num\", b['num']/b['num'])\n",
        "b.show()"
      ],
      "execution_count": 3,
      "outputs": [
        {
          "output_type": "stream",
          "text": [
            "+-----+---+\n",
            "|class|num|\n",
            "+-----+---+\n",
            "|    0|1.0|\n",
            "|    0|1.0|\n",
            "|    1|1.0|\n",
            "|    1|1.0|\n",
            "|    2|1.0|\n",
            "|    2|1.0|\n",
            "|    3|1.0|\n",
            "|    3|1.0|\n",
            "+-----+---+\n",
            "\n"
          ],
          "name": "stdout"
        }
      ]
    },
    {
      "cell_type": "code",
      "metadata": {
        "id": "cp__m1ond5Ws",
        "colab_type": "code",
        "outputId": "7fa2c421-1d04-45aa-b99d-41ae7d56f6c8",
        "colab": {
          "base_uri": "https://localhost:8080/",
          "height": 243
        }
      },
      "source": [
        "b=b.withColumn(\"new\", b['class']+b['num'])\n",
        "b.show()"
      ],
      "execution_count": 4,
      "outputs": [
        {
          "output_type": "stream",
          "text": [
            "+-----+---+---+\n",
            "|class|num|new|\n",
            "+-----+---+---+\n",
            "|    0|1.0|1.0|\n",
            "|    0|1.0|1.0|\n",
            "|    1|1.0|2.0|\n",
            "|    1|1.0|2.0|\n",
            "|    2|1.0|3.0|\n",
            "|    2|1.0|3.0|\n",
            "|    3|1.0|4.0|\n",
            "|    3|1.0|4.0|\n",
            "+-----+---+---+\n",
            "\n"
          ],
          "name": "stdout"
        }
      ]
    },
    {
      "cell_type": "code",
      "metadata": {
        "id": "0JBuVXEHeKUV",
        "colab_type": "code",
        "outputId": "66ca8085-065e-4277-d015-ea37c1c6d508",
        "colab": {
          "base_uri": "https://localhost:8080/",
          "height": 243
        }
      },
      "source": [
        "\n",
        "b.show()"
      ],
      "execution_count": 5,
      "outputs": [
        {
          "output_type": "stream",
          "text": [
            "+-----+---+---+\n",
            "|class|num|new|\n",
            "+-----+---+---+\n",
            "|    0|1.0|1.0|\n",
            "|    0|1.0|1.0|\n",
            "|    1|1.0|2.0|\n",
            "|    1|1.0|2.0|\n",
            "|    2|1.0|3.0|\n",
            "|    2|1.0|3.0|\n",
            "|    3|1.0|4.0|\n",
            "|    3|1.0|4.0|\n",
            "+-----+---+---+\n",
            "\n"
          ],
          "name": "stdout"
        }
      ]
    },
    {
      "cell_type": "code",
      "metadata": {
        "id": "I-kWrwvweTEt",
        "colab_type": "code",
        "colab": {
          "base_uri": "https://localhost:8080/",
          "height": 55
        },
        "outputId": "1a1ef7d8-5188-4e7c-c058-b111c3227f6c"
      },
      "source": [
        "!echo $PATH"
      ],
      "execution_count": 6,
      "outputs": [
        {
          "output_type": "stream",
          "text": [
            "/usr/local/bin:/usr/local/nvidia/bin:/usr/local/cuda/bin:/usr/local/sbin:/usr/local/bin:/usr/sbin:/usr/bin:/sbin:/bin:/tools/node/bin:/tools/google-cloud-sdk/bin:/opt/bin\n"
          ],
          "name": "stdout"
        }
      ]
    },
    {
      "cell_type": "code",
      "metadata": {
        "id": "1_xW3TFjfuSp",
        "colab_type": "code",
        "colab": {
          "base_uri": "https://localhost:8080/",
          "height": 453
        },
        "outputId": "57ab3baa-2a6d-4a30-f77e-731e60160dca"
      },
      "source": [
        "!lscpu"
      ],
      "execution_count": 7,
      "outputs": [
        {
          "output_type": "stream",
          "text": [
            "Architecture:        x86_64\n",
            "CPU op-mode(s):      32-bit, 64-bit\n",
            "Byte Order:          Little Endian\n",
            "CPU(s):              2\n",
            "On-line CPU(s) list: 0,1\n",
            "Thread(s) per core:  2\n",
            "Core(s) per socket:  1\n",
            "Socket(s):           1\n",
            "NUMA node(s):        1\n",
            "Vendor ID:           GenuineIntel\n",
            "CPU family:          6\n",
            "Model:               63\n",
            "Model name:          Intel(R) Xeon(R) CPU @ 2.30GHz\n",
            "Stepping:            0\n",
            "CPU MHz:             2300.000\n",
            "BogoMIPS:            4600.00\n",
            "Hypervisor vendor:   KVM\n",
            "Virtualization type: full\n",
            "L1d cache:           32K\n",
            "L1i cache:           32K\n",
            "L2 cache:            256K\n",
            "L3 cache:            46080K\n",
            "NUMA node0 CPU(s):   0,1\n",
            "Flags:               fpu vme de pse tsc msr pae mce cx8 apic sep mtrr pge mca cmov pat pse36 clflush mmx fxsr sse sse2 ss ht syscall nx pdpe1gb rdtscp lm constant_tsc rep_good nopl xtopology nonstop_tsc cpuid tsc_known_freq pni pclmulqdq ssse3 fma cx16 pcid sse4_1 sse4_2 x2apic movbe popcnt aes xsave avx f16c rdrand hypervisor lahf_lm abm invpcid_single pti ssbd ibrs ibpb stibp fsgsbase tsc_adjust bmi1 avx2 smep bmi2 erms invpcid xsaveopt arat arch_capabilities\n"
          ],
          "name": "stdout"
        }
      ]
    },
    {
      "cell_type": "code",
      "metadata": {
        "id": "GTd-AZIlf-ee",
        "colab_type": "code",
        "colab": {}
      },
      "source": [
        "#!less /proc/cpuinfo"
      ],
      "execution_count": 0,
      "outputs": []
    },
    {
      "cell_type": "markdown",
      "metadata": {
        "id": "g-C-RrBF-tdD",
        "colab_type": "text"
      },
      "source": [
        "Nice Article on UDFs: https://www.slideshare.net/ueshin/apache-arrow-and-pandas-udf-on-apache-spark\n",
        "\n",
        "* When is SCALAR needed?"
      ]
    },
    {
      "cell_type": "code",
      "metadata": {
        "id": "6wKqXCSegRGr",
        "colab_type": "code",
        "colab": {
          "base_uri": "https://localhost:8080/",
          "height": 243
        },
        "outputId": "357972e5-c3d3-4362-9642-2c9cc57a6be7"
      },
      "source": [
        "b.select('num').show()"
      ],
      "execution_count": 9,
      "outputs": [
        {
          "output_type": "stream",
          "text": [
            "+---+\n",
            "|num|\n",
            "+---+\n",
            "|1.0|\n",
            "|1.0|\n",
            "|1.0|\n",
            "|1.0|\n",
            "|1.0|\n",
            "|1.0|\n",
            "|1.0|\n",
            "|1.0|\n",
            "+---+\n",
            "\n"
          ],
          "name": "stdout"
        }
      ]
    },
    {
      "cell_type": "code",
      "metadata": {
        "id": "BiJFzpA8HY_J",
        "colab_type": "code",
        "colab": {
          "base_uri": "https://localhost:8080/",
          "height": 243
        },
        "outputId": "ef33029d-d700-48f3-ed43-ce2ddb24cae3"
      },
      "source": [
        "b.withColumn(\"num_2\", b[\"num\"]* 5).show()"
      ],
      "execution_count": 10,
      "outputs": [
        {
          "output_type": "stream",
          "text": [
            "+-----+---+---+-----+\n",
            "|class|num|new|num_2|\n",
            "+-----+---+---+-----+\n",
            "|    0|1.0|1.0|  5.0|\n",
            "|    0|1.0|1.0|  5.0|\n",
            "|    1|1.0|2.0|  5.0|\n",
            "|    1|1.0|2.0|  5.0|\n",
            "|    2|1.0|3.0|  5.0|\n",
            "|    2|1.0|3.0|  5.0|\n",
            "|    3|1.0|4.0|  5.0|\n",
            "|    3|1.0|4.0|  5.0|\n",
            "+-----+---+---+-----+\n",
            "\n"
          ],
          "name": "stdout"
        }
      ]
    },
    {
      "cell_type": "code",
      "metadata": {
        "id": "v9IqjEqwIWJU",
        "colab_type": "code",
        "colab": {
          "base_uri": "https://localhost:8080/",
          "height": 287
        },
        "outputId": "5429384c-8475-4b89-cc83-197e3fd67042"
      },
      "source": [
        "b.withColumn(\"str(num)\", str(b['num']))"
      ],
      "execution_count": 11,
      "outputs": [
        {
          "output_type": "error",
          "ename": "AssertionError",
          "evalue": "ignored",
          "traceback": [
            "\u001b[0;31m---------------------------------------------------------------------------\u001b[0m",
            "\u001b[0;31mAssertionError\u001b[0m                            Traceback (most recent call last)",
            "\u001b[0;32m<ipython-input-11-5ecaf077806f>\u001b[0m in \u001b[0;36m<module>\u001b[0;34m()\u001b[0m\n\u001b[0;32m----> 1\u001b[0;31m \u001b[0mb\u001b[0m\u001b[0;34m.\u001b[0m\u001b[0mwithColumn\u001b[0m\u001b[0;34m(\u001b[0m\u001b[0;34m\"str(num)\"\u001b[0m\u001b[0;34m,\u001b[0m \u001b[0mstr\u001b[0m\u001b[0;34m(\u001b[0m\u001b[0mb\u001b[0m\u001b[0;34m[\u001b[0m\u001b[0;34m'num'\u001b[0m\u001b[0;34m]\u001b[0m\u001b[0;34m)\u001b[0m\u001b[0;34m)\u001b[0m\u001b[0;34m\u001b[0m\u001b[0;34m\u001b[0m\u001b[0m\n\u001b[0m",
            "\u001b[0;32m/usr/local/lib/python3.6/dist-packages/pyspark/sql/dataframe.py\u001b[0m in \u001b[0;36mwithColumn\u001b[0;34m(self, colName, col)\u001b[0m\n\u001b[1;32m   1986\u001b[0m \u001b[0;34m\u001b[0m\u001b[0m\n\u001b[1;32m   1987\u001b[0m         \"\"\"\n\u001b[0;32m-> 1988\u001b[0;31m         \u001b[0;32massert\u001b[0m \u001b[0misinstance\u001b[0m\u001b[0;34m(\u001b[0m\u001b[0mcol\u001b[0m\u001b[0;34m,\u001b[0m \u001b[0mColumn\u001b[0m\u001b[0;34m)\u001b[0m\u001b[0;34m,\u001b[0m \u001b[0;34m\"col should be Column\"\u001b[0m\u001b[0;34m\u001b[0m\u001b[0;34m\u001b[0m\u001b[0m\n\u001b[0m\u001b[1;32m   1989\u001b[0m         \u001b[0;32mreturn\u001b[0m \u001b[0mDataFrame\u001b[0m\u001b[0;34m(\u001b[0m\u001b[0mself\u001b[0m\u001b[0;34m.\u001b[0m\u001b[0m_jdf\u001b[0m\u001b[0;34m.\u001b[0m\u001b[0mwithColumn\u001b[0m\u001b[0;34m(\u001b[0m\u001b[0mcolName\u001b[0m\u001b[0;34m,\u001b[0m \u001b[0mcol\u001b[0m\u001b[0;34m.\u001b[0m\u001b[0m_jc\u001b[0m\u001b[0;34m)\u001b[0m\u001b[0;34m,\u001b[0m \u001b[0mself\u001b[0m\u001b[0;34m.\u001b[0m\u001b[0msql_ctx\u001b[0m\u001b[0;34m)\u001b[0m\u001b[0;34m\u001b[0m\u001b[0;34m\u001b[0m\u001b[0m\n\u001b[1;32m   1990\u001b[0m \u001b[0;34m\u001b[0m\u001b[0m\n",
            "\u001b[0;31mAssertionError\u001b[0m: col should be Column"
          ]
        }
      ]
    },
    {
      "cell_type": "markdown",
      "metadata": {
        "id": "KlVlmRcSJJvH",
        "colab_type": "text"
      },
      "source": [
        "Create UDF to convert number to string"
      ]
    },
    {
      "cell_type": "code",
      "metadata": {
        "id": "fbfq63O_I5iN",
        "colab_type": "code",
        "colab": {}
      },
      "source": [
        "from pyspark.sql.functions import col, pandas_udf\n",
        "from pyspark.sql.types import LongType, StringType\n",
        "\n",
        "# Declare the function and create the UDF\n",
        "def num_to_string(a):\n",
        "    b= a.apply(lambda x: str(x)+\"_1\")\n",
        "    #print(b)\n",
        "    return b\n",
        "\n",
        "numToString = pandas_udf(num_to_string, returnType=StringType())"
      ],
      "execution_count": 0,
      "outputs": []
    },
    {
      "cell_type": "code",
      "metadata": {
        "id": "kY59cMc_J0GU",
        "colab_type": "code",
        "colab": {
          "base_uri": "https://localhost:8080/",
          "height": 243
        },
        "outputId": "c528413e-6ec4-4583-aecb-551261a3e145"
      },
      "source": [
        "b.withColumn(\"new_num\", numToString(col('num'))).show()"
      ],
      "execution_count": 13,
      "outputs": [
        {
          "output_type": "stream",
          "text": [
            "+-----+---+---+-------+\n",
            "|class|num|new|new_num|\n",
            "+-----+---+---+-------+\n",
            "|    0|1.0|1.0|  1.0_1|\n",
            "|    0|1.0|1.0|  1.0_1|\n",
            "|    1|1.0|2.0|  1.0_1|\n",
            "|    1|1.0|2.0|  1.0_1|\n",
            "|    2|1.0|3.0|  1.0_1|\n",
            "|    2|1.0|3.0|  1.0_1|\n",
            "|    3|1.0|4.0|  1.0_1|\n",
            "|    3|1.0|4.0|  1.0_1|\n",
            "+-----+---+---+-------+\n",
            "\n"
          ],
          "name": "stdout"
        }
      ]
    }
  ]
}