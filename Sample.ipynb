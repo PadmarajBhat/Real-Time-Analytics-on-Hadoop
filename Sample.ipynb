{
  "nbformat": 4,
  "nbformat_minor": 0,
  "metadata": {
    "colab": {
      "name": "Sample.ipynb",
      "version": "0.3.2",
      "provenance": [],
      "collapsed_sections": [],
      "include_colab_link": true
    },
    "kernelspec": {
      "name": "python3",
      "display_name": "Python 3"
    }
  },
  "cells": [
    {
      "cell_type": "markdown",
      "metadata": {
        "id": "view-in-github",
        "colab_type": "text"
      },
      "source": [
        "<a href=\"https://colab.research.google.com/github/PadmarajBhat/Real-Time-Analytics-on-Hadoop/blob/master/Sample.ipynb\" target=\"_parent\"><img src=\"https://colab.research.google.com/assets/colab-badge.svg\" alt=\"Open In Colab\"/></a>"
      ]
    },
    {
      "cell_type": "code",
      "metadata": {
        "id": "pL-fjCGFb7p1",
        "colab_type": "code",
        "outputId": "037778c6-2005-46c1-d193-697b259ef075",
        "colab": {
          "base_uri": "https://localhost:8080/",
          "height": 52
        }
      },
      "source": [
        "!pip install -U pyspark"
      ],
      "execution_count": 6,
      "outputs": [
        {
          "output_type": "stream",
          "text": [
            "Requirement already up-to-date: pyspark in /usr/local/lib/python3.6/dist-packages (2.4.3)\n",
            "Requirement already satisfied, skipping upgrade: py4j==0.10.7 in /usr/local/lib/python3.6/dist-packages (from pyspark) (0.10.7)\n"
          ],
          "name": "stdout"
        }
      ]
    },
    {
      "cell_type": "code",
      "metadata": {
        "id": "TJ50ia1Xc8Wc",
        "colab_type": "code",
        "outputId": "56809546-8613-4ddf-8e68-723f459e1e8d",
        "colab": {
          "base_uri": "https://localhost:8080/",
          "height": 243
        }
      },
      "source": [
        "from pyspark.sql import SparkSession\n",
        "spark = SparkSession.builder.appName(\"MLlib\").getOrCreate()\n",
        "a = [(0,1),(0,2),(1,1),(1,2),(2,1),(2,2),(3,1),(3,2)]\n",
        "b = spark.createDataFrame(a,[\"class\",\"num\"])\n",
        "b.show()"
      ],
      "execution_count": 0,
      "outputs": [
        {
          "output_type": "stream",
          "text": [
            "+-----+---+\n",
            "|class|num|\n",
            "+-----+---+\n",
            "|    0|  1|\n",
            "|    0|  2|\n",
            "|    1|  1|\n",
            "|    1|  2|\n",
            "|    2|  1|\n",
            "|    2|  2|\n",
            "|    3|  1|\n",
            "|    3|  2|\n",
            "+-----+---+\n",
            "\n"
          ],
          "name": "stdout"
        }
      ]
    },
    {
      "cell_type": "code",
      "metadata": {
        "id": "zU8735T2dl83",
        "colab_type": "code",
        "outputId": "26776a0d-9c6d-484f-b9ee-c889205593e8",
        "colab": {
          "base_uri": "https://localhost:8080/",
          "height": 243
        }
      },
      "source": [
        "b= b.withColumn(\"num\", b['num']/b['num'])\n",
        "b.show()"
      ],
      "execution_count": 0,
      "outputs": [
        {
          "output_type": "stream",
          "text": [
            "+-----+---+\n",
            "|class|num|\n",
            "+-----+---+\n",
            "|    0|1.0|\n",
            "|    0|1.0|\n",
            "|    1|1.0|\n",
            "|    1|1.0|\n",
            "|    2|1.0|\n",
            "|    2|1.0|\n",
            "|    3|1.0|\n",
            "|    3|1.0|\n",
            "+-----+---+\n",
            "\n"
          ],
          "name": "stdout"
        }
      ]
    },
    {
      "cell_type": "code",
      "metadata": {
        "id": "cp__m1ond5Ws",
        "colab_type": "code",
        "outputId": "ec481c3d-fa6b-4bff-9a91-017b8366f2c9",
        "colab": {
          "base_uri": "https://localhost:8080/",
          "height": 243
        }
      },
      "source": [
        "b=b.withColumn(\"new\", b['class']+b['num'])\n",
        "b.show()"
      ],
      "execution_count": 0,
      "outputs": [
        {
          "output_type": "stream",
          "text": [
            "+-----+---+---+\n",
            "|class|num|new|\n",
            "+-----+---+---+\n",
            "|    0|1.0|1.0|\n",
            "|    0|1.0|1.0|\n",
            "|    1|1.0|2.0|\n",
            "|    1|1.0|2.0|\n",
            "|    2|1.0|3.0|\n",
            "|    2|1.0|3.0|\n",
            "|    3|1.0|4.0|\n",
            "|    3|1.0|4.0|\n",
            "+-----+---+---+\n",
            "\n"
          ],
          "name": "stdout"
        }
      ]
    },
    {
      "cell_type": "code",
      "metadata": {
        "id": "0JBuVXEHeKUV",
        "colab_type": "code",
        "outputId": "cfcdbd79-8b7b-465e-a59e-8c0177331369",
        "colab": {
          "base_uri": "https://localhost:8080/",
          "height": 243
        }
      },
      "source": [
        "\n",
        "b.show()"
      ],
      "execution_count": 5,
      "outputs": [
        {
          "output_type": "stream",
          "text": [
            "+-----+---+---+\n",
            "|class|num|new|\n",
            "+-----+---+---+\n",
            "|    0|1.0|1.0|\n",
            "|    0|1.0|1.0|\n",
            "|    1|1.0|2.0|\n",
            "|    1|1.0|2.0|\n",
            "|    2|1.0|3.0|\n",
            "|    2|1.0|3.0|\n",
            "|    3|1.0|4.0|\n",
            "|    3|1.0|4.0|\n",
            "+-----+---+---+\n",
            "\n"
          ],
          "name": "stdout"
        }
      ]
    },
    {
      "cell_type": "code",
      "metadata": {
        "id": "I-kWrwvweTEt",
        "colab_type": "code",
        "colab": {
          "base_uri": "https://localhost:8080/",
          "height": 55
        },
        "outputId": "2d527d94-9e5b-40d6-8d8b-e89fc7e90a07"
      },
      "source": [
        "!echo $PATH"
      ],
      "execution_count": 7,
      "outputs": [
        {
          "output_type": "stream",
          "text": [
            "/usr/local/bin:/usr/local/nvidia/bin:/usr/local/cuda/bin:/usr/local/sbin:/usr/local/bin:/usr/sbin:/usr/bin:/sbin:/bin:/tools/node/bin:/tools/google-cloud-sdk/bin:/opt/bin\n"
          ],
          "name": "stdout"
        }
      ]
    },
    {
      "cell_type": "code",
      "metadata": {
        "id": "1_xW3TFjfuSp",
        "colab_type": "code",
        "colab": {
          "base_uri": "https://localhost:8080/",
          "height": 453
        },
        "outputId": "6320913c-fef5-4132-9439-65a20d541008"
      },
      "source": [
        "!lscpu"
      ],
      "execution_count": 8,
      "outputs": [
        {
          "output_type": "stream",
          "text": [
            "Architecture:        x86_64\n",
            "CPU op-mode(s):      32-bit, 64-bit\n",
            "Byte Order:          Little Endian\n",
            "CPU(s):              2\n",
            "On-line CPU(s) list: 0,1\n",
            "Thread(s) per core:  2\n",
            "Core(s) per socket:  1\n",
            "Socket(s):           1\n",
            "NUMA node(s):        1\n",
            "Vendor ID:           GenuineIntel\n",
            "CPU family:          6\n",
            "Model:               63\n",
            "Model name:          Intel(R) Xeon(R) CPU @ 2.30GHz\n",
            "Stepping:            0\n",
            "CPU MHz:             2300.000\n",
            "BogoMIPS:            4600.00\n",
            "Hypervisor vendor:   KVM\n",
            "Virtualization type: full\n",
            "L1d cache:           32K\n",
            "L1i cache:           32K\n",
            "L2 cache:            256K\n",
            "L3 cache:            46080K\n",
            "NUMA node0 CPU(s):   0,1\n",
            "Flags:               fpu vme de pse tsc msr pae mce cx8 apic sep mtrr pge mca cmov pat pse36 clflush mmx fxsr sse sse2 ss ht syscall nx pdpe1gb rdtscp lm constant_tsc rep_good nopl xtopology nonstop_tsc cpuid tsc_known_freq pni pclmulqdq ssse3 fma cx16 pcid sse4_1 sse4_2 x2apic movbe popcnt aes xsave avx f16c rdrand hypervisor lahf_lm abm invpcid_single pti ssbd ibrs ibpb stibp fsgsbase tsc_adjust bmi1 avx2 smep bmi2 erms invpcid xsaveopt arat arch_capabilities\n"
          ],
          "name": "stdout"
        }
      ]
    },
    {
      "cell_type": "code",
      "metadata": {
        "id": "GTd-AZIlf-ee",
        "colab_type": "code",
        "colab": {
          "base_uri": "https://localhost:8080/",
          "height": 364
        },
        "outputId": "e734c6ba-e02e-4a0f-a5e5-f744cc6796f6"
      },
      "source": [
        "!less /proc/cpuinfo"
      ],
      "execution_count": 10,
      "outputs": [
        {
          "output_type": "stream",
          "text": [
            "\u001b7\u001b[?47h\u001b[?1h\u001b=\rprocessor       : 0\r\n",
            "vendor_id       : GenuineIntel\r\n",
            "cpu family      : 6\r\n",
            "model           : 63\r\n",
            "model name      : Intel(R) Xeon(R) CPU @ 2.30GHz\r\n",
            "stepping        : 0\r\n",
            "microcode       : 0x1\r\n",
            "cpu MHz         : 2300.000\r\n",
            "cache size      : 46080 KB\r\n",
            "physical id     : 0\r\n",
            "siblings        : 2\r\n",
            "core id         : 0\r\n",
            "cpu cores       : 1\r\n",
            "apicid          : 0\r\n",
            "initial apicid  : 0\r\n",
            "fpu             : yes\r\n",
            "fpu_exception   : yes\r\n",
            "cpuid level     : 13\r\n",
            "wp              : yes\n",
            "\u001b[K:\u001b[K^C\n"
          ],
          "name": "stdout"
        }
      ]
    },
    {
      "cell_type": "code",
      "metadata": {
        "id": "6wKqXCSegRGr",
        "colab_type": "code",
        "colab": {}
      },
      "source": [
        ""
      ],
      "execution_count": 0,
      "outputs": []
    }
  ]
}