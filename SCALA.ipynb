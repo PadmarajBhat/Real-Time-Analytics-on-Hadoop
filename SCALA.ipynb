{
  "nbformat": 4,
  "nbformat_minor": 0,
  "metadata": {
    "colab": {
      "name": "SCALA.ipynb",
      "version": "0.3.2",
      "provenance": [],
      "collapsed_sections": [],
      "include_colab_link": true
    },
    "kernelspec": {
      "name": "python3",
      "display_name": "Python 3"
    }
  },
  "cells": [
    {
      "cell_type": "markdown",
      "metadata": {
        "id": "view-in-github",
        "colab_type": "text"
      },
      "source": [
        "<a href=\"https://colab.research.google.com/github/PadmarajBhat/Real-Time-Analytics-on-Hadoop/blob/master/SCALA.ipynb\" target=\"_parent\"><img src=\"https://colab.research.google.com/assets/colab-badge.svg\" alt=\"Open In Colab\"/></a>"
      ]
    },
    {
      "cell_type": "markdown",
      "metadata": {
        "id": "2dIreO8MUx6p",
        "colab_type": "text"
      },
      "source": [
        "#### It is a python notebook for SCALA notes :P. Output for the code snippets are from Scastie\n",
        "\n",
        "```\n",
        "val x = 5;\n",
        "\n",
        "def func(x: Int) = {println(\"This is the first message:\"+ x*5)}\n",
        "\n",
        "val y = \"String\"\n",
        "def func2(x:String) = println(\"This is the second message:\"+ y)\n",
        "\n",
        "func(x)\n",
        "func2(y)\n",
        "func2(x)\n",
        "```\n",
        "\n",
        "This gives error as the for the second call of func2 as the type mismatches. with func2 definition indicating \"Any\" for the parameter would solve the error."
      ]
    },
    {
      "cell_type": "markdown",
      "metadata": {
        "id": "7exk9GjTXqkZ",
        "colab_type": "text"
      },
      "source": [
        "```\n",
        "/* lambda function */\n",
        "println((1 to 5).map(2 *))\n",
        "```\n",
        "\n",
        "comment and lambda function is notable here:\n",
        "\n",
        "Output: Vector(2, 4, 6, 8, 10)"
      ]
    },
    {
      "cell_type": "markdown",
      "metadata": {
        "id": "n0lxg-FzZf2u",
        "colab_type": "text"
      },
      "source": [
        "```\n",
        "val w = (1 to 5).map { x =>\n",
        "  val y = x * 2\n",
        "  println()\n",
        "  println(\"x =\"+x)\n",
        "  println(\"y =\"+y)\n",
        "  \n",
        "  y\n",
        "  \n",
        "  \n",
        "}\n",
        "\n",
        "println(w)\n",
        "```\n",
        "\n",
        "* empty println did not make any sense\n",
        "* x did not get changed inside map\n",
        "* simple variable name returned value to the caller\n",
        "\n",
        "```\n",
        "x =1\n",
        "y =2\n",
        "x =2\n",
        "y =4\n",
        "x =3\n",
        "y =6\n",
        "x =4\n",
        "y =8\n",
        "x =5\n",
        "y =10\n",
        "Vector(2, 4, 6, 8, 10)\n",
        "```"
      ]
    },
    {
      "cell_type": "markdown",
      "metadata": {
        "id": "MlP3FVJPc7th",
        "colab_type": "text"
      },
      "source": [
        "#### Following codes are equivalent. i.e. produces same output\n",
        "1.\n",
        "```\n",
        "(1 to 5) filter ( _ % 2 == 0 ) map(_ * 2)\n",
        "```\n",
        "2.\n",
        "```\n",
        "(1 to 5) filter (\n",
        "  _ % 2 == 0 ) map(\n",
        "  _ * 2)\n",
        "```\n",
        "3.\n",
        "```\n",
        "(1 to 5).filter (\n",
        "  _ % 2 == 0 ).map(\n",
        "  _ * 2)\n",
        "```\n",
        "4.\n",
        "```\n",
        "(1 to 5).\n",
        "filter (\n",
        "  _ % 2 == 0 ).\n",
        "map(\n",
        "  _ * 2)\n",
        "```\n",
        "Output:\n",
        "\n",
        "```\n",
        "Vector(4, 8)\n",
        "```\n",
        "\n",
        "* note that \".\" let us continue in next line\n",
        "* \"(\" can also let us continue in next line\n",
        "* otherwise space seperated pipe operator has to be in single line else considered as different executables."
      ]
    },
    {
      "cell_type": "code",
      "metadata": {
        "id": "_z_5UEf-Uu4c",
        "colab_type": "code",
        "colab": {}
      },
      "source": [
        ""
      ],
      "execution_count": 0,
      "outputs": []
    }
  ]
}