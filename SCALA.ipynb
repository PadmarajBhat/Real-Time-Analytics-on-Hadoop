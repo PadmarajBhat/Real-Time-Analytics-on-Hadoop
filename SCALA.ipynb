{
  "nbformat": 4,
  "nbformat_minor": 0,
  "metadata": {
    "colab": {
      "name": "SCALA.ipynb",
      "version": "0.3.2",
      "provenance": [],
      "collapsed_sections": [],
      "include_colab_link": true
    },
    "kernelspec": {
      "name": "python3",
      "display_name": "Python 3"
    }
  },
  "cells": [
    {
      "cell_type": "markdown",
      "metadata": {
        "id": "view-in-github",
        "colab_type": "text"
      },
      "source": [
        "<a href=\"https://colab.research.google.com/github/PadmarajBhat/Real-Time-Analytics-on-Hadoop/blob/master/SCALA.ipynb\" target=\"_parent\"><img src=\"https://colab.research.google.com/assets/colab-badge.svg\" alt=\"Open In Colab\"/></a>"
      ]
    },
    {
      "cell_type": "markdown",
      "metadata": {
        "id": "2dIreO8MUx6p",
        "colab_type": "text"
      },
      "source": [
        "#### It is a python notebook for SCALA notes :P. Output for the code snippets are from Scastie\n",
        "\n",
        "```\n",
        "val x = 5;\n",
        "\n",
        "def func(x: Int) = {println(\"This is the first message:\"+ x*5)}\n",
        "\n",
        "val y = \"String\"\n",
        "def func2(x:String) = println(\"This is the second message:\"+ y)\n",
        "\n",
        "func(x)\n",
        "func2(y)\n",
        "func2(x)\n",
        "```\n",
        "\n",
        "This gives error as the for the second call of func2 as the type mismatches. with func2 definition indicating \"Any\" for the parameter would solve the error."
      ]
    },
    {
      "cell_type": "markdown",
      "metadata": {
        "id": "7exk9GjTXqkZ",
        "colab_type": "text"
      },
      "source": [
        "```\n",
        "/* lambda function */\n",
        "println((1 to 5).map(2 *))\n",
        "```\n",
        "\n",
        "comment and lambda function is notable here:\n",
        "\n",
        "Output: Vector(2, 4, 6, 8, 10)"
      ]
    },
    {
      "cell_type": "markdown",
      "metadata": {
        "id": "n0lxg-FzZf2u",
        "colab_type": "text"
      },
      "source": [
        "```\n",
        "val w = (1 to 5).map { x =>\n",
        "  val y = x * 2\n",
        "  println()\n",
        "  println(\"x =\"+x)\n",
        "  println(\"y =\"+y)\n",
        "  \n",
        "  y\n",
        "  \n",
        "  \n",
        "}\n",
        "\n",
        "println(w)\n",
        "```\n",
        "\n",
        "* empty println did not make any sense\n",
        "* x did not get changed inside map\n",
        "* simple variable name returned value to the caller\n",
        "\n",
        "```\n",
        "x =1\n",
        "y =2\n",
        "x =2\n",
        "y =4\n",
        "x =3\n",
        "y =6\n",
        "x =4\n",
        "y =8\n",
        "x =5\n",
        "y =10\n",
        "Vector(2, 4, 6, 8, 10)\n",
        "```"
      ]
    },
    {
      "cell_type": "markdown",
      "metadata": {
        "id": "MlP3FVJPc7th",
        "colab_type": "text"
      },
      "source": [
        "#### Following codes are equivalent. i.e. produces same output\n",
        "1.\n",
        "```\n",
        "(1 to 5) filter ( _ % 2 == 0 ) map(_ * 2)\n",
        "```\n",
        "2.\n",
        "```\n",
        "(1 to 5) filter (\n",
        "  _ % 2 == 0 ) map(\n",
        "  _ * 2)\n",
        "```\n",
        "3.\n",
        "```\n",
        "(1 to 5).filter (\n",
        "  _ % 2 == 0 ).map(\n",
        "  _ * 2)\n",
        "```\n",
        "4.\n",
        "```\n",
        "(1 to 5).\n",
        "filter (\n",
        "  _ % 2 == 0 ).\n",
        "map(\n",
        "  _ * 2)\n",
        "```\n",
        "5.\n",
        "```\n",
        "(1 to 5)  filter {  _ % 2 == 0 } map{   _ * 2}\n",
        "```\n",
        "Output:\n",
        "\n",
        "```\n",
        "Vector(4, 8)\n",
        "```\n",
        "\n",
        "* note that \".\" let us continue in next line\n",
        "* \"(\" can also let us continue in next line\n",
        "* otherwise space seperated pipe operator has to be in single line else considered as different executables.\n",
        "* better readability of map function\n",
        "* it does not matter if \"()\" or \"{}\" is used for function."
      ]
    },
    {
      "cell_type": "markdown",
      "metadata": {
        "id": "RAEpglsDiG0f",
        "colab_type": "text"
      },
      "source": [
        "##### Finally the Hello World\n",
        "\n",
        "1.\n",
        "```\n",
        "println{\"Hello World\"}\n",
        "```\n",
        "2.\n",
        "```\n",
        "println(\"Hello World\")\n",
        "```\n",
        "\n",
        "* Both Prints \"Hello World\""
      ]
    },
    {
      "cell_type": "markdown",
      "metadata": {
        "id": "_2gvtn3Ohwar",
        "colab_type": "text"
      },
      "source": [
        ""
      ]
    },
    {
      "cell_type": "markdown",
      "metadata": {
        "id": "w-Oc4mfk5cKC",
        "colab_type": "text"
      },
      "source": [
        "##### function taking function as argument\n",
        "\n",
        "```\n",
        "type R = Int\n",
        "def compose(g: R => R, h: R => R) =\n",
        "(x:R) => g(h(x))\n",
        "\n",
        "val xs = List(1,2,34)\n",
        "\n",
        "val f = xs.map(compose(_ * 2, _ - 1))\n",
        "println(f)\n",
        "\n",
        "```\n",
        "\n",
        "Output: List(0,2,33)\n",
        "\n",
        "as h(x) is first to execute and map works from first to last of list, we have\n",
        "1-1 * 2 == 0 and so on."
      ]
    },
    {
      "cell_type": "markdown",
      "metadata": {
        "id": "YVgqmujGD9Hb",
        "colab_type": "text"
      },
      "source": [
        "### Simple function returning value\n",
        "\n",
        "```\n",
        "type R = Int\n",
        "\n",
        "def compose_1(a: Double,b:Double) = {\n",
        "\t val x:Double = (a / b)\n",
        "  (x,x)\n",
        "  }\n",
        "\n",
        "\n",
        "val xs = List(1,2,34)\n",
        "\n",
        "for (x <- xs) {\n",
        " \n",
        "  println(compose_1(x,x+1))\n",
        "}\n",
        "```\n",
        "Output:\n",
        "(0.5,0.5)\n",
        "(0.6666666666666666,0.6666666666666666)\n",
        "(0.9714285714285714,0.9714285714285714)\n",
        "\n",
        "\n",
        "note that val x:Double results in x capability to save double value but here it is explicitly mentioned. However, even without that also x would have double value as we have 2 parameters are double.\n",
        "\n",
        "If parameters were int and we wanted float operation\n",
        "```\n",
        "val x = (a.toDouble / b.toDouble)/(a-b).toDouble\n",
        "```\n",
        "would have automatically made x a double by doing the float computation"
      ]
    },
    {
      "cell_type": "markdown",
      "metadata": {
        "id": "67_RF_9GInGW",
        "colab_type": "text"
      },
      "source": [
        "#### Spark way of handling manupulation of data\n",
        "\n",
        "```\n",
        "val xs = (1 to 10)\n",
        "\n",
        "val y = for (x <- xs if x%2 == 0)\n",
        "yield x * 10\n",
        "\n",
        "println(y)\n",
        "\n",
        "\n",
        "println(xs.filter(_ % 2 == 0).map(_ * 10))\n",
        "```\n",
        "Output:\n",
        "Vector(20, 40, 60, 80, 100)\n",
        "Vector(20, 40, 60, 80, 100)"
      ]
    },
    {
      "cell_type": "markdown",
      "metadata": {
        "id": "BMyCiOjoOskd",
        "colab_type": "text"
      },
      "source": [
        "#### for statement\n",
        "\n",
        "for (x<- xs ; y <-ys) == nested for loop\n",
        "for(x<-xs if x %2) == working iwth values as there is no ;"
      ]
    },
    {
      "cell_type": "markdown",
      "metadata": {
        "id": "XhEagvbDT2TH",
        "colab_type": "text"
      },
      "source": [
        "### \"Some\" expression\n",
        "\n",
        "```\n",
        "val upper = for {\n",
        "  name <- List(\"None\")\n",
        "  trimmed <- Some(name.trim)\n",
        "  /* if trimmed.length != 0*/\n",
        "  upper <- Some(trimmed.toUpperCase)\n",
        "} yield upper\n",
        "println(upper)\n",
        "```\n",
        "\n",
        "Output: List(NONE)\n",
        "\n",
        "Initial example of optional / Some."
      ]
    },
    {
      "cell_type": "markdown",
      "metadata": {
        "id": "bq-yGz3Zxxi1",
        "colab_type": "text"
      },
      "source": [
        "#### Comparision of Python for comprehension with that of SCALA\n",
        "\n",
        "```\n",
        "val xs = List(1,2,3,4,5)\n",
        "\n",
        "val x = xs(2)\n",
        "//println(x)\n",
        "x match {\n",
        "  case 1 => println(1)\n",
        "  case _ => println(x+1)\n",
        "}\n",
        "\n",
        "println(xs.length)\n",
        "\n",
        "println(xs.size)\n",
        "\n",
        "println(xs.contains(2))\n",
        "\n",
        "\n",
        "println(xs.map(_+1))\n",
        "```\n",
        "\n",
        "Output: \n",
        "```\n",
        "4\n",
        "5\n",
        "5\n",
        "true\n",
        "List(2, 3, 4, 5, 6)\n",
        "```"
      ]
    },
    {
      "cell_type": "code",
      "metadata": {
        "id": "_z_5UEf-Uu4c",
        "colab_type": "code",
        "colab": {
          "base_uri": "https://localhost:8080/",
          "height": 101
        },
        "outputId": "88c9672d-ba0b-47ed-ca51-541e5212845b"
      },
      "source": [
        "xs =[1,2,3,4,5]\n",
        "\n",
        "x = xs[2]\n",
        "\n",
        "if x == 1:\n",
        "  print(1)\n",
        "else:\n",
        "  print(x+1)\n",
        "\n",
        "print(len(xs))\n",
        "\n",
        "import numpy as np\n",
        "print((np.array(xs)).size)\n",
        "\n",
        "print(2 in xs)\n",
        "\n",
        "print([x+1 for x in xs ])"
      ],
      "execution_count": 10,
      "outputs": [
        {
          "output_type": "stream",
          "text": [
            "4\n",
            "5\n",
            "5\n",
            "True\n",
            "[2, 3, 4, 5, 6]\n"
          ],
          "name": "stdout"
        }
      ]
    },
    {
      "cell_type": "code",
      "metadata": {
        "id": "pfuD-Yjl1I07",
        "colab_type": "code",
        "colab": {}
      },
      "source": [
        ""
      ],
      "execution_count": 0,
      "outputs": []
    }
  ]
}