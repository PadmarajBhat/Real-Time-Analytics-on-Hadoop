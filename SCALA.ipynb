{
  "nbformat": 4,
  "nbformat_minor": 0,
  "metadata": {
    "colab": {
      "name": "SCALA.ipynb",
      "version": "0.3.2",
      "provenance": [],
      "collapsed_sections": [],
      "include_colab_link": true
    },
    "kernelspec": {
      "name": "python3",
      "display_name": "Python 3"
    }
  },
  "cells": [
    {
      "cell_type": "markdown",
      "metadata": {
        "id": "view-in-github",
        "colab_type": "text"
      },
      "source": [
        "<a href=\"https://colab.research.google.com/github/PadmarajBhat/Real-Time-Analytics-on-Hadoop/blob/master/SCALA.ipynb\" target=\"_parent\"><img src=\"https://colab.research.google.com/assets/colab-badge.svg\" alt=\"Open In Colab\"/></a>"
      ]
    },
    {
      "cell_type": "markdown",
      "metadata": {
        "id": "2dIreO8MUx6p",
        "colab_type": "text"
      },
      "source": [
        "#### It is a python notebook for SCALA notes :P. Output for the code snippets are from Scastie\n",
        "\n",
        "```\n",
        "val x = 5;\n",
        "\n",
        "def func(x: Int) = {println(\"This is the first message:\"+ x*5)}\n",
        "\n",
        "val y = \"String\"\n",
        "def func2(x:String) = println(\"This is the second message:\"+ y)\n",
        "\n",
        "func(x)\n",
        "func2(y)\n",
        "func2(x)\n",
        "```\n",
        "\n",
        "This gives error as the for the second call of func2 as the type mismatches. with func2 definition indicating \"Any\" for the parameter would solve the error."
      ]
    },
    {
      "cell_type": "code",
      "metadata": {
        "id": "_z_5UEf-Uu4c",
        "colab_type": "code",
        "colab": {}
      },
      "source": [
        ""
      ],
      "execution_count": 0,
      "outputs": []
    }
  ]
}